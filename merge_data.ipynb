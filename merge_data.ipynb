{
 "cells": [
  {
   "cell_type": "code",
   "execution_count": 7,
   "id": "a394de71-cb25-4220-bee8-bfe82cae2df6",
   "metadata": {},
   "outputs": [],
   "source": [
    "from pathlib import Path\n",
    "import pandas as pd\n",
    "import os"
   ]
  },
  {
   "cell_type": "code",
   "execution_count": 16,
   "id": "bfe29c36-e9f2-44cb-874c-edd207995ea3",
   "metadata": {},
   "outputs": [],
   "source": [
    "import warnings\n",
    "warnings.filterwarnings('ignore', category=UserWarning, message='.*DtypeWarning.*')"
   ]
  },
  {
   "cell_type": "code",
   "execution_count": 24,
   "id": "c32e038e-e558-4c83-81a1-31d140459ab1",
   "metadata": {},
   "outputs": [
    {
     "name": "stdout",
     "output_type": "stream",
     "text": [
      "tissue:Bone marrow\n",
      "SCP46620\n",
      "MS-based-SCP/Bone marrow/SCP46620\n",
      "proteinGroups_Primary_BMDM.txt\n",
      "MS-based-SCP/Bone marrow/SCP46620/proteinGroups_Primary_BMDM.txt\n"
     ]
    },
    {
     "name": "stderr",
     "output_type": "stream",
     "text": [
      "/tmp/ipykernel_13174/3890944353.py:25: DtypeWarning: Columns (1081,1082,1083,1091,1092) have mixed types. Specify dtype option on import or set low_memory=False.\n",
      "  raw_matrix = pd.read_csv(matrix_path,sep = '\\t')\n"
     ]
    }
   ],
   "source": [
    "tissues = [\n",
    "    \"Bone marrow\", \"Brain\", \"Breast\", \"Cervical\", \"Colon\",\n",
    "    \"Embryo\", \"Kidney\", \"Lung\", \"Ovary\", \"Pancreas\",\n",
    "    \"Peripheral blood\", \"Pleural effusion\", \"Skin\", \"Spinal cord\",\n",
    "    \"Testis\", \"Vascular epithelium\"\n",
    "]\n",
    "\n",
    "SCP_info = []\n",
    "base_path = 'MS-based-SCP'\n",
    "for tissue in tissues:\n",
    "    scp_path = os.path.join('MS-based-SCP',tissue,f\"{tissue}.txt\")\n",
    "    with open (scp_path,'r') as file:\n",
    "        print(f\"tissue:{tissue}\")\n",
    "        for line in file:\n",
    "            line = line.strip()\n",
    "            print(line)\n",
    "            protein_exp_path = os.path.join(base_path,tissue,f\"{line}\")\n",
    "            protein_exp_path = Path(protein_exp_path)\n",
    "            print(protein_exp_path)\n",
    "            for file in protein_exp_path.iterdir():\n",
    "                if file.is_file() and file.name != 'cell_info.csv':\n",
    "                    print(file.name)\n",
    "                    matrix_path = os.path.join(base_path,tissue,line,file.name)\n",
    "                    print(matrix_path)\n",
    "                    raw_matrix = pd.read_csv(matrix_path,sep = '\\t')\n",
    "                    filtered_raw_matrix = raw_matrix.loc[:, ['Protein IDs'] + list(raw_matrix.columns[raw_matrix.columns.str.contains('Intensity')])]\n",
    "                    break\n",
    "    break  "
   ]
  }
 ],
 "metadata": {
  "kernelspec": {
   "display_name": "Python 3 (ipykernel)",
   "language": "python",
   "name": "python3"
  },
  "language_info": {
   "codemirror_mode": {
    "name": "ipython",
    "version": 3
   },
   "file_extension": ".py",
   "mimetype": "text/x-python",
   "name": "python",
   "nbconvert_exporter": "python",
   "pygments_lexer": "ipython3",
   "version": "3.9.21"
  }
 },
 "nbformat": 4,
 "nbformat_minor": 5
}
