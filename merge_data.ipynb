{
 "cells": [
  {
   "cell_type": "code",
   "execution_count": 7,
   "id": "a394de71-cb25-4220-bee8-bfe82cae2df6",
   "metadata": {},
   "outputs": [],
   "source": [
    "from pathlib import Path\n",
    "import pandas as pd\n",
    "import os"
   ]
  },
  {
   "cell_type": "code",
   "execution_count": 16,
   "id": "bfe29c36-e9f2-44cb-874c-edd207995ea3",
   "metadata": {},
   "outputs": [],
   "source": [
    "import warnings\n",
    "warnings.filterwarnings('ignore', category=UserWarning, message='.*DtypeWarning.*')"
   ]
  },
  {
   "cell_type": "code",
   "execution_count": 78,
   "id": "c32e038e-e558-4c83-81a1-31d140459ab1",
   "metadata": {},
   "outputs": [
    {
     "name": "stderr",
     "output_type": "stream",
     "text": [
      "/tmp/ipykernel_13174/3471673897.py:29: DtypeWarning: Columns (1081,1082,1083,1091,1092) have mixed types. Specify dtype option on import or set low_memory=False.\n",
      "  raw_matrix = pd.read_csv(matrix_path,sep = '\\t')\n",
      "/tmp/ipykernel_13174/3471673897.py:29: DtypeWarning: Columns (1240,1241,1242) have mixed types. Specify dtype option on import or set low_memory=False.\n",
      "  raw_matrix = pd.read_csv(matrix_path,sep = '\\t')\n",
      "/tmp/ipykernel_13174/3471673897.py:29: DtypeWarning: Columns (395,396,397,405,406) have mixed types. Specify dtype option on import or set low_memory=False.\n",
      "  raw_matrix = pd.read_csv(matrix_path,sep = '\\t')\n",
      "/tmp/ipykernel_13174/3471673897.py:29: DtypeWarning: Columns (396,397) have mixed types. Specify dtype option on import or set low_memory=False.\n",
      "  raw_matrix = pd.read_csv(matrix_path,sep = '\\t')\n",
      "/tmp/ipykernel_13174/3471673897.py:29: DtypeWarning: Columns (396,397) have mixed types. Specify dtype option on import or set low_memory=False.\n",
      "  raw_matrix = pd.read_csv(matrix_path,sep = '\\t')\n",
      "/tmp/ipykernel_13174/3471673897.py:29: DtypeWarning: Columns (510,511) have mixed types. Specify dtype option on import or set low_memory=False.\n",
      "  raw_matrix = pd.read_csv(matrix_path,sep = '\\t')\n"
     ]
    },
    {
     "name": "stdout",
     "output_type": "stream",
     "text": [
      "tissue:Breast SCP IDSCP64414:no data\n",
      "tissue:Breast SCP IDSCP64414:no data\n"
     ]
    },
    {
     "name": "stderr",
     "output_type": "stream",
     "text": [
      "/tmp/ipykernel_13174/3471673897.py:29: DtypeWarning: Columns (617,618) have mixed types. Specify dtype option on import or set low_memory=False.\n",
      "  raw_matrix = pd.read_csv(matrix_path,sep = '\\t')\n",
      "/tmp/ipykernel_13174/3471673897.py:29: DtypeWarning: Columns (2,3,4,51,441,442,451,452,453,454) have mixed types. Specify dtype option on import or set low_memory=False.\n",
      "  raw_matrix = pd.read_csv(matrix_path,sep = '\\t')\n",
      "/tmp/ipykernel_13174/3471673897.py:29: DtypeWarning: Columns (1029,1030) have mixed types. Specify dtype option on import or set low_memory=False.\n",
      "  raw_matrix = pd.read_csv(matrix_path,sep = '\\t')\n",
      "/tmp/ipykernel_13174/3471673897.py:29: DtypeWarning: Columns (1072) have mixed types. Specify dtype option on import or set low_memory=False.\n",
      "  raw_matrix = pd.read_csv(matrix_path,sep = '\\t')\n"
     ]
    },
    {
     "name": "stdout",
     "output_type": "stream",
     "text": [
      "no Protein IDs find in MS-based-SCP/Cervical/SCP40669/DIA_singlecell.txt\n"
     ]
    },
    {
     "name": "stderr",
     "output_type": "stream",
     "text": [
      "/tmp/ipykernel_13174/3471673897.py:29: DtypeWarning: Columns (3202,3203,3211,3212,3213,3214) have mixed types. Specify dtype option on import or set low_memory=False.\n",
      "  raw_matrix = pd.read_csv(matrix_path,sep = '\\t')\n",
      "/tmp/ipykernel_13174/3471673897.py:29: DtypeWarning: Columns (7017,7018,7019,7027,7028,7029,7030) have mixed types. Specify dtype option on import or set low_memory=False.\n",
      "  raw_matrix = pd.read_csv(matrix_path,sep = '\\t')\n",
      "/tmp/ipykernel_13174/3471673897.py:29: DtypeWarning: Columns (4685,4686,4687,4695,4697) have mixed types. Specify dtype option on import or set low_memory=False.\n",
      "  raw_matrix = pd.read_csv(matrix_path,sep = '\\t')\n"
     ]
    },
    {
     "name": "stdout",
     "output_type": "stream",
     "text": [
      "no Protein IDs find in MS-based-SCP/Cervical/SCP53306/proteinGroups_dynamic_range.txt\n"
     ]
    },
    {
     "name": "stderr",
     "output_type": "stream",
     "text": [
      "/tmp/ipykernel_13174/3471673897.py:29: DtypeWarning: Columns (617,618) have mixed types. Specify dtype option on import or set low_memory=False.\n",
      "  raw_matrix = pd.read_csv(matrix_path,sep = '\\t')\n"
     ]
    },
    {
     "name": "stdout",
     "output_type": "stream",
     "text": [
      "no Protein IDs find in MS-based-SCP/Embryo/SCP93357/proteinGroups_16_32_64_128cell_phase.txt\n",
      "no Protein IDs find in MS-based-SCP/Embryo/SCP93357/proteinGroups_D11.txt\n"
     ]
    },
    {
     "name": "stderr",
     "output_type": "stream",
     "text": [
      "/tmp/ipykernel_13174/3471673897.py:29: DtypeWarning: Columns (206) have mixed types. Specify dtype option on import or set low_memory=False.\n",
      "  raw_matrix = pd.read_csv(matrix_path,sep = '\\t')\n"
     ]
    },
    {
     "name": "stdout",
     "output_type": "stream",
     "text": [
      "no Protein IDs find in MS-based-SCP/Embryo/SCP51907/proteinGroups_16_32_64_128cell_phase.txt\n",
      "no Protein IDs find in MS-based-SCP/Embryo/SCP52085/proteinGroups_16_32_64_128cell_phase.txt\n",
      "no Protein IDs find in MS-based-SCP/Embryo/SCP44229/proteinGroups_16_32_64_128cell_phase.txt\n",
      "no Protein IDs find in MS-based-SCP/Embryo/SCP47204/error_log.txt\n",
      "no Protein IDs find in MS-based-SCP/Lung/SCP18981/DIA_dirDIA_MF_blank.txt\n",
      "no Protein IDs find in MS-based-SCP/Lung/SCP18981/DIA_dirDIA_PC9_1_5cell.txt\n",
      "no Protein IDs find in MS-based-SCP/Lung/SCP18981/DIA_dirDIA_PC9_10cell.txt\n",
      "no Protein IDs find in MS-based-SCP/Lung/SCP18981/DIA_dirDIA_PC9_50cell.txt\n",
      "no Protein IDs find in MS-based-SCP/Lung/SCP18981/DIA_dirDIA_PC9_100cell.txt\n",
      "no Protein IDs find in MS-based-SCP/Lung/SCP18981/DIA_dirDIA_PC9_blank.txt\n",
      "no Protein IDs find in MS-based-SCP/Lung/SCP18981/DIA_libDIA_MF_blank.txt\n",
      "no Protein IDs find in MS-based-SCP/Lung/SCP18981/DIA_libDIA_PC9_1_5cell.txt\n",
      "no Protein IDs find in MS-based-SCP/Lung/SCP18981/DIA_libDIA_PC9_10cell.txt\n",
      "no Protein IDs find in MS-based-SCP/Lung/SCP18981/DIA_libDIA_PC9_50cell.txt\n",
      "no Protein IDs find in MS-based-SCP/Lung/SCP18981/DIA_libDIA_PC9_100cell.txt\n",
      "no Protein IDs find in MS-based-SCP/Lung/SCP18981/DIA_libDIA_PC9_blank.txt\n",
      "no Protein IDs find in MS-based-SCP/Lung/SCP22919/DIA_B1_dirDIA-SCMF.txt\n",
      "no Protein IDs find in MS-based-SCP/Lung/SCP22919/DIA_B1_libDIA-SCMF_6xlib.txt\n",
      "no Protein IDs find in MS-based-SCP/Lung/SCP22919/DIA_B1_libDIA-SCMF_22xlib.txt\n",
      "no Protein IDs find in MS-based-SCP/Lung/SCP22919/DIA_B2_dirDIA-SCMF.txt\n",
      "no Protein IDs find in MS-based-SCP/Lung/SCP22919/DIA_B2_libDIA-SCMF_6xlib.txt\n",
      "no Protein IDs find in MS-based-SCP/Lung/SCP22919/DIA_B2_libDIA-SCMF_22xlib.txt\n"
     ]
    },
    {
     "name": "stderr",
     "output_type": "stream",
     "text": [
      "/tmp/ipykernel_13174/3471673897.py:29: DtypeWarning: Columns (206) have mixed types. Specify dtype option on import or set low_memory=False.\n",
      "  raw_matrix = pd.read_csv(matrix_path,sep = '\\t')\n",
      "/tmp/ipykernel_13174/3471673897.py:29: DtypeWarning: Columns (1082,1083) have mixed types. Specify dtype option on import or set low_memory=False.\n",
      "  raw_matrix = pd.read_csv(matrix_path,sep = '\\t')\n",
      "/tmp/ipykernel_13174/3471673897.py:29: DtypeWarning: Columns (657,658,659) have mixed types. Specify dtype option on import or set low_memory=False.\n",
      "  raw_matrix = pd.read_csv(matrix_path,sep = '\\t')\n"
     ]
    },
    {
     "name": "stdout",
     "output_type": "stream",
     "text": [
      "tissue:Pancreas SCP IDSCP50571:no data\n",
      "tissue:Pancreas SCP IDSCP50571:no data\n",
      "no Protein IDs find in MS-based-SCP/Pancreas/SCP50571/Meta_SingleCell.tsv\n",
      "no Protein IDs find in MS-based-SCP/Pancreas/SCP50571/Meta_Bulk_benchmarking.tsv\n",
      "no Protein IDs find in MS-based-SCP/Pancreas/SCP50571/RawFile_Info.tsv\n"
     ]
    },
    {
     "name": "stderr",
     "output_type": "stream",
     "text": [
      "/tmp/ipykernel_13174/3471673897.py:29: DtypeWarning: Columns (548) have mixed types. Specify dtype option on import or set low_memory=False.\n",
      "  raw_matrix = pd.read_csv(matrix_path,sep = '\\t')\n",
      "/tmp/ipykernel_13174/3471673897.py:29: DtypeWarning: Columns (2,3,4,51,441,442,451,452,453,454) have mixed types. Specify dtype option on import or set low_memory=False.\n",
      "  raw_matrix = pd.read_csv(matrix_path,sep = '\\t')\n",
      "/tmp/ipykernel_13174/3471673897.py:29: DtypeWarning: Columns (1294,1295) have mixed types. Specify dtype option on import or set low_memory=False.\n",
      "  raw_matrix = pd.read_csv(matrix_path,sep = '\\t')\n",
      "/tmp/ipykernel_13174/3471673897.py:29: DtypeWarning: Columns (1294,1295) have mixed types. Specify dtype option on import or set low_memory=False.\n",
      "  raw_matrix = pd.read_csv(matrix_path,sep = '\\t')\n",
      "/tmp/ipykernel_13174/3471673897.py:29: DtypeWarning: Columns (1081,1082,1083) have mixed types. Specify dtype option on import or set low_memory=False.\n",
      "  raw_matrix = pd.read_csv(matrix_path,sep = '\\t')\n"
     ]
    },
    {
     "name": "stdout",
     "output_type": "stream",
     "text": [
      "no Protein IDs find in MS-based-SCP/Peripheral blood/SCP96862/libDIA_MEC1_1cell.txt\n",
      "no Protein IDs find in MS-based-SCP/Peripheral blood/SCP96862/libDIA_MEC1_10cell.txt\n",
      "no Protein IDs find in MS-based-SCP/Peripheral blood/SCP96862/libDIA_MEC1_100cell.txt\n"
     ]
    },
    {
     "name": "stderr",
     "output_type": "stream",
     "text": [
      "/tmp/ipykernel_13174/3471673897.py:29: DtypeWarning: Columns (1294,1295) have mixed types. Specify dtype option on import or set low_memory=False.\n",
      "  raw_matrix = pd.read_csv(matrix_path,sep = '\\t')\n",
      "/tmp/ipykernel_13174/3471673897.py:29: DtypeWarning: Columns (1081,1082,1083) have mixed types. Specify dtype option on import or set low_memory=False.\n",
      "  raw_matrix = pd.read_csv(matrix_path,sep = '\\t')\n",
      "/tmp/ipykernel_13174/3471673897.py:29: DtypeWarning: Columns (548) have mixed types. Specify dtype option on import or set low_memory=False.\n",
      "  raw_matrix = pd.read_csv(matrix_path,sep = '\\t')\n",
      "/tmp/ipykernel_13174/3471673897.py:29: DtypeWarning: Columns (762) have mixed types. Specify dtype option on import or set low_memory=False.\n",
      "  raw_matrix = pd.read_csv(matrix_path,sep = '\\t')\n",
      "/tmp/ipykernel_13174/3471673897.py:29: DtypeWarning: Columns (1294,1295) have mixed types. Specify dtype option on import or set low_memory=False.\n",
      "  raw_matrix = pd.read_csv(matrix_path,sep = '\\t')\n",
      "/tmp/ipykernel_13174/3471673897.py:29: DtypeWarning: Columns (548) have mixed types. Specify dtype option on import or set low_memory=False.\n",
      "  raw_matrix = pd.read_csv(matrix_path,sep = '\\t')\n"
     ]
    },
    {
     "name": "stdout",
     "output_type": "stream",
     "text": [
      "tissue:Peripheral blood SCP IDSCP99043:no data\n"
     ]
    },
    {
     "name": "stderr",
     "output_type": "stream",
     "text": [
      "/tmp/ipykernel_13174/3471673897.py:29: DtypeWarning: Columns (762) have mixed types. Specify dtype option on import or set low_memory=False.\n",
      "  raw_matrix = pd.read_csv(matrix_path,sep = '\\t')\n"
     ]
    },
    {
     "name": "stdout",
     "output_type": "stream",
     "text": [
      "tissue:Peripheral blood SCP IDSCP51021:no data\n"
     ]
    },
    {
     "name": "stderr",
     "output_type": "stream",
     "text": [
      "/tmp/ipykernel_13174/3471673897.py:29: DtypeWarning: Columns (762) have mixed types. Specify dtype option on import or set low_memory=False.\n",
      "  raw_matrix = pd.read_csv(matrix_path,sep = '\\t')\n",
      "/tmp/ipykernel_13174/3471673897.py:29: DtypeWarning: Columns (1294,1295) have mixed types. Specify dtype option on import or set low_memory=False.\n",
      "  raw_matrix = pd.read_csv(matrix_path,sep = '\\t')\n",
      "/tmp/ipykernel_13174/3471673897.py:29: DtypeWarning: Columns (548) have mixed types. Specify dtype option on import or set low_memory=False.\n",
      "  raw_matrix = pd.read_csv(matrix_path,sep = '\\t')\n"
     ]
    },
    {
     "name": "stdout",
     "output_type": "stream",
     "text": [
      "tissue:Peripheral blood SCP IDSCP31516:no data\n"
     ]
    },
    {
     "name": "stderr",
     "output_type": "stream",
     "text": [
      "/tmp/ipykernel_13174/3471673897.py:29: DtypeWarning: Columns (762) have mixed types. Specify dtype option on import or set low_memory=False.\n",
      "  raw_matrix = pd.read_csv(matrix_path,sep = '\\t')\n",
      "/tmp/ipykernel_13174/3471673897.py:29: DtypeWarning: Columns (57,65,66) have mixed types. Specify dtype option on import or set low_memory=False.\n",
      "  raw_matrix = pd.read_csv(matrix_path,sep = '\\t')\n"
     ]
    },
    {
     "name": "stdout",
     "output_type": "stream",
     "text": [
      "no Protein IDs find in MS-based-SCP/Peripheral blood/SCP61852/error_log.txt\n"
     ]
    },
    {
     "name": "stderr",
     "output_type": "stream",
     "text": [
      "/tmp/ipykernel_13174/3471673897.py:29: DtypeWarning: Columns (57,65,66) have mixed types. Specify dtype option on import or set low_memory=False.\n",
      "  raw_matrix = pd.read_csv(matrix_path,sep = '\\t')\n",
      "/tmp/ipykernel_13174/3471673897.py:29: DtypeWarning: Columns (57,65,66) have mixed types. Specify dtype option on import or set low_memory=False.\n",
      "  raw_matrix = pd.read_csv(matrix_path,sep = '\\t')\n"
     ]
    },
    {
     "name": "stdout",
     "output_type": "stream",
     "text": [
      "no Protein IDs find in MS-based-SCP/Pleural effusion/SCP47204/error_log.txt\n"
     ]
    },
    {
     "name": "stderr",
     "output_type": "stream",
     "text": [
      "/tmp/ipykernel_13174/3471673897.py:29: DtypeWarning: Columns (57,65,66) have mixed types. Specify dtype option on import or set low_memory=False.\n",
      "  raw_matrix = pd.read_csv(matrix_path,sep = '\\t')\n"
     ]
    },
    {
     "name": "stdout",
     "output_type": "stream",
     "text": [
      "no Protein IDs find in MS-based-SCP/Pleural effusion/SCP61852/error_log.txt\n"
     ]
    },
    {
     "name": "stderr",
     "output_type": "stream",
     "text": [
      "/tmp/ipykernel_13174/3471673897.py:29: DtypeWarning: Columns (57,65,66) have mixed types. Specify dtype option on import or set low_memory=False.\n",
      "  raw_matrix = pd.read_csv(matrix_path,sep = '\\t')\n",
      "/tmp/ipykernel_13174/3471673897.py:29: DtypeWarning: Columns (57,65,66) have mixed types. Specify dtype option on import or set low_memory=False.\n",
      "  raw_matrix = pd.read_csv(matrix_path,sep = '\\t')\n"
     ]
    },
    {
     "name": "stdout",
     "output_type": "stream",
     "text": [
      "no Protein IDs find in MS-based-SCP/Pleural effusion/SCP50571/DownloadResultFile?file=f.MSV000089093%2Fupdates%2F2022-03-23_jderks_10a27189%2Fmetadata%2FMeta_SingleCell.tsv&forceDownload=true\n",
      "no Protein IDs find in MS-based-SCP/Pleural effusion/SCP50571/DownloadResultFile?file=f.MSV000089093%2Fupdates%2F2022-03-23_jderks_10a27189%2Fmetadata%2FMeta_Bulk_benchmarking.tsv&forceDownload=true\n",
      "no Protein IDs find in MS-based-SCP/Pleural effusion/SCP50571/DownloadResultFile?file=f.MSV000089093%2Fupdates%2F2022-03-23_jderks_10a27189%2Fmetadata%2FMeta_SingleCell.tsv&forceDownload=true.1\n",
      "no Protein IDs find in MS-based-SCP/Skin/SCP50571/DownloadResultFile?file=f.MSV000089093%2Fupdates%2F2022-03-23_jderks_10a27189%2Fmetadata%2FMeta_SingleCell.tsv&forceDownload=true\n",
      "no Protein IDs find in MS-based-SCP/Skin/SCP50571/DownloadResultFile?file=f.MSV000089093%2Fupdates%2F2022-03-23_jderks_10a27189%2Fmetadata%2FMeta_Bulk_benchmarking.tsv&forceDownload=true\n",
      "no Protein IDs find in MS-based-SCP/Skin/SCP50571/DownloadResultFile?file=f.MSV000089093%2Fupdates%2F2022-03-23_jderks_10a27189%2Fmetadata%2FMeta_SingleCell.tsv&forceDownload=true.1\n",
      "no Protein IDs find in MS-based-SCP/Spinal cord/SCP37069/proteinGroups_inter_motor.txt\n"
     ]
    },
    {
     "name": "stderr",
     "output_type": "stream",
     "text": [
      "/tmp/ipykernel_13174/3471673897.py:29: DtypeWarning: Columns (102) have mixed types. Specify dtype option on import or set low_memory=False.\n",
      "  raw_matrix = pd.read_csv(matrix_path,sep = '\\t')\n",
      "/tmp/ipykernel_13174/3471673897.py:29: DtypeWarning: Columns (5,6,2615,2616,2624,2625) have mixed types. Specify dtype option on import or set low_memory=False.\n",
      "  raw_matrix = pd.read_csv(matrix_path,sep = '\\t')\n"
     ]
    }
   ],
   "source": [
    "# 不同组织的表达文件的差距太大\n",
    "# 细胞的名称如果要加入的话 还需要判断 \n",
    "tissues = [\n",
    "    \"Bone marrow\", \"Brain\", \"Breast\", \"Cervical\", \"Colon\",\n",
    "    \"Embryo\", \"Kidney\", \"Lung\", \"Ovary\", \"Pancreas\",\n",
    "    \"Peripheral blood\", \"Pleural effusion\", \"Skin\", \"Spinal cord\",\n",
    "    \"Testis\", \"Vascular epithelium\"\n",
    "]\n",
    "\n",
    "SCP_info = []\n",
    "all_matrix = []\n",
    "check_SCP = pd.DataFrame(columns = ['SCP ID','tissue','have data','have intensity'])\n",
    "base_path = 'MS-based-SCP'\n",
    "for tissue in tissues:\n",
    "    scp_path = os.path.join('MS-based-SCP',tissue,f\"{tissue}.txt\")\n",
    "    with open (scp_path,'r') as file:\n",
    "        for line in file:\n",
    "            # 每个tissue的不同SCP\n",
    "            line = line.strip()\n",
    "            protein_exp_path = os.path.join(base_path,tissue,f\"{line}\")\n",
    "            protein_exp_path = Path(protein_exp_path)\n",
    "            scp_info_path = os.path.join(protein_exp_path,\"cell_info.csv\")\n",
    "            # 判断SCP中是否有data文件 \n",
    "            have_data = 0\n",
    "            for file in protein_exp_path.iterdir():\n",
    "                if file.is_file() and file.name != 'cell_info.csv' and 'filtered' not in file.name:\n",
    "                    have_data = 1\n",
    "                    matrix_path = os.path.join(base_path,tissue,line,file.name)\n",
    "                    raw_matrix = pd.read_csv(matrix_path,sep = '\\t')\n",
    "                    if 'Protein IDs' in raw_matrix.columns:\n",
    "                        filtered_raw_matrix = raw_matrix.loc[:, ['Protein IDs'] + list(raw_matrix.columns[raw_matrix.columns.str.contains('Intensity')])]\n",
    "                        # 检查是否提取到了intensity列\n",
    "                        extracted_columns = list(raw_matrix.columns[raw_matrix.columns.str.contains('Intensity')])\n",
    "                        if not extracted_columns:\n",
    "                            row = {'SCP ID':line,'tissue':tissue,'have data':1,'have intensity':0}\n",
    "                            row = pd.DataFrame([row])\n",
    "                            check_SCP = pd.concat([check_SCP,row],ignore_index = True)\n",
    "                            print(f\"tissue:{tissue} SCP ID:{line}:no intensity data\")\n",
    "                        else:\n",
    "                            output_file_path = os.path.join(base_path,tissue,line,f\"filtered_{file.name}.csv\")\n",
    "                            filtered_raw_matrix.to_csv(output_file_path)   \n",
    "                    else:\n",
    "                        print(f\"no Protein IDs find in {matrix_path}\")\n",
    "                # 若没有data文件 记录一下\n",
    "                if not have_data:\n",
    "                    row = {'SCP ID':line,'tissue':tissue,'have data':0,'have intensity':0}\n",
    "                    row = pd.DataFrame([row])\n",
    "                    check_SCP = pd.concat([check_SCP,row],ignore_index = True)\n",
    "                    print(f\"tissue:{tissue} SCP ID:{line}:no data\")"
   ]
  },
  {
   "cell_type": "code",
   "execution_count": 79,
   "id": "abec591a-a998-4006-8d73-cc28e8e810a8",
   "metadata": {},
   "outputs": [
    {
     "data": {
      "text/html": [
       "<div>\n",
       "<style scoped>\n",
       "    .dataframe tbody tr th:only-of-type {\n",
       "        vertical-align: middle;\n",
       "    }\n",
       "\n",
       "    .dataframe tbody tr th {\n",
       "        vertical-align: top;\n",
       "    }\n",
       "\n",
       "    .dataframe thead th {\n",
       "        text-align: right;\n",
       "    }\n",
       "</style>\n",
       "<table border=\"1\" class=\"dataframe\">\n",
       "  <thead>\n",
       "    <tr style=\"text-align: right;\">\n",
       "      <th></th>\n",
       "      <th>SCP ID</th>\n",
       "      <th>tissue</th>\n",
       "      <th>have data</th>\n",
       "      <th>have intensity</th>\n",
       "    </tr>\n",
       "  </thead>\n",
       "  <tbody>\n",
       "    <tr>\n",
       "      <th>0</th>\n",
       "      <td>SCP64414</td>\n",
       "      <td>Breast</td>\n",
       "      <td>0</td>\n",
       "      <td>0</td>\n",
       "    </tr>\n",
       "    <tr>\n",
       "      <th>1</th>\n",
       "      <td>SCP64414</td>\n",
       "      <td>Breast</td>\n",
       "      <td>0</td>\n",
       "      <td>0</td>\n",
       "    </tr>\n",
       "    <tr>\n",
       "      <th>2</th>\n",
       "      <td>SCP50571</td>\n",
       "      <td>Pancreas</td>\n",
       "      <td>0</td>\n",
       "      <td>0</td>\n",
       "    </tr>\n",
       "    <tr>\n",
       "      <th>3</th>\n",
       "      <td>SCP50571</td>\n",
       "      <td>Pancreas</td>\n",
       "      <td>0</td>\n",
       "      <td>0</td>\n",
       "    </tr>\n",
       "    <tr>\n",
       "      <th>4</th>\n",
       "      <td>SCP99043</td>\n",
       "      <td>Peripheral blood</td>\n",
       "      <td>0</td>\n",
       "      <td>0</td>\n",
       "    </tr>\n",
       "    <tr>\n",
       "      <th>5</th>\n",
       "      <td>SCP51021</td>\n",
       "      <td>Peripheral blood</td>\n",
       "      <td>0</td>\n",
       "      <td>0</td>\n",
       "    </tr>\n",
       "    <tr>\n",
       "      <th>6</th>\n",
       "      <td>SCP31516</td>\n",
       "      <td>Peripheral blood</td>\n",
       "      <td>0</td>\n",
       "      <td>0</td>\n",
       "    </tr>\n",
       "  </tbody>\n",
       "</table>\n",
       "</div>"
      ],
      "text/plain": [
       "     SCP ID            tissue have data have intensity\n",
       "0  SCP64414            Breast         0              0\n",
       "1  SCP64414            Breast         0              0\n",
       "2  SCP50571          Pancreas         0              0\n",
       "3  SCP50571          Pancreas         0              0\n",
       "4  SCP99043  Peripheral blood         0              0\n",
       "5  SCP51021  Peripheral blood         0              0\n",
       "6  SCP31516  Peripheral blood         0              0"
      ]
     },
     "execution_count": 79,
     "metadata": {},
     "output_type": "execute_result"
    }
   ],
   "source": [
    "check_SCP"
   ]
  }
 ],
 "metadata": {
  "kernelspec": {
   "display_name": "Python 3 (ipykernel)",
   "language": "python",
   "name": "python3"
  },
  "language_info": {
   "codemirror_mode": {
    "name": "ipython",
    "version": 3
   },
   "file_extension": ".py",
   "mimetype": "text/x-python",
   "name": "python",
   "nbconvert_exporter": "python",
   "pygments_lexer": "ipython3",
   "version": "3.9.21"
  }
 },
 "nbformat": 4,
 "nbformat_minor": 5
}
